{
 "cells": [
  {
   "cell_type": "code",
   "execution_count": 3,
   "metadata": {},
   "outputs": [],
   "source": [
    "import random\n",
    "import copy"
   ]
  },
  {
   "cell_type": "code",
   "execution_count": 4,
   "metadata": {},
   "outputs": [],
   "source": [
    "def generateKromosom(uk_krom):\n",
    "    krom = []  \n",
    "    for i in range(uk_krom):\n",
    "        krom.append(random.randint(0,9))      \n",
    "    \n",
    "    return krom\n",
    "\n",
    "def generatePopulasi(uk_pop):\n",
    "    pop = []\n",
    "    for i in range(uk_pop):\n",
    "        pop.append(generateKromosom(8))\n",
    "        \n",
    "    return pop"
   ]
  },
  {
   "cell_type": "code",
   "execution_count": 5,
   "metadata": {},
   "outputs": [],
   "source": [
    "def decodeKromosom(krom): \n",
    "    x1_val = -3 + (6 / (9 * (10**-1 + 10**-2 + 10**-3 + 10**-4))) * ((krom[0]*10**-1)+(krom[1]*10**-2)+(krom[2]*10**-3)+(krom[3]*10**-4))\n",
    "    x2_val = -2 + (4 / (9 * (10**-1 + 10**-2 + 10**-3 + 10**-4))) * ((krom[4]*10**-1)+(krom[5]*10**-2)+(krom[6]*10**-3)+(krom[7]*10**-4))\n",
    "    \n",
    "    return [x1_val, x2_val]\n",
    "\n",
    "def hitungFitness(krom):\n",
    "    k = decodeKromosom(krom)\n",
    "    fit_val = -((((4 - (2.1 * k[0]**2) + (k[0]**4 / 3)) * k[0]**2) + (k[0]*k[1]) + ((-4 + (4*k[1]**2))*k[1]**2)))\n",
    "    return fit_val\n",
    "\n",
    "def hitungFitnessAll(pop, uk_pop):\n",
    "    fit_all = []    \n",
    "    for i in range(uk_pop):\n",
    "        fit_all.append(hitungFitness(pop[i]))\n",
    "    \n",
    "    return fit_all"
   ]
  },
  {
   "cell_type": "code",
   "execution_count": 6,
   "metadata": {},
   "outputs": [],
   "source": [
    "def tournamentSelection(pop, uk_tour, uk_pop):\n",
    "    best_krom = []\n",
    "    for i in range(1, uk_tour):\n",
    "        krom = pop[random.randint(0,uk_pop-1)]\n",
    "        if (best_krom == [] or hitungFitness(krom) > hitungFitness(best_krom)):\n",
    "            best_krom = krom\n",
    "    return best_krom"
   ]
  },
  {
   "cell_type": "code",
   "execution_count": 7,
   "metadata": {},
   "outputs": [],
   "source": [
    "def crossover(par1, par2, pc):\n",
    "    r = random.random()\n",
    "    if (r < pc):\n",
    "        point = random.randint(0,7)\n",
    "        for i in range(point):\n",
    "            par1[i], par2[i] = par2[i], par1[i]\n",
    "        \n",
    "    return par1, par2"
   ]
  },
  {
   "cell_type": "code",
   "execution_count": 8,
   "metadata": {},
   "outputs": [],
   "source": [
    "def mutasi(par1, par2, pm):\n",
    "    r = random.random()\n",
    "    if (r < pm):\n",
    "        par1[random.randint(0,7)] = random.randint(0,9)\n",
    "        par2[random.randint(0,7)] = random.randint(0,9)\n",
    "    return par1, par2"
   ]
  },
  {
   "cell_type": "code",
   "execution_count": 9,
   "metadata": {},
   "outputs": [],
   "source": [
    "def getElitisme(fit_all):\n",
    "    return fit_all.index(max(fit_all))"
   ]
  },
  {
   "cell_type": "markdown",
   "metadata": {},
   "source": [
    "### Hyperparameter"
   ]
  },
  {
   "cell_type": "code",
   "execution_count": 10,
   "metadata": {},
   "outputs": [],
   "source": [
    "ukpop = 50\n",
    "uktour = 5\n",
    "generasi = 100\n",
    "pc = 0.76\n",
    "pm = 0.31"
   ]
  },
  {
   "cell_type": "code",
   "execution_count": 11,
   "metadata": {},
   "outputs": [
    {
     "name": "stdout",
     "output_type": "stream",
     "text": [
      "           HASIL MINIMASI FUNGSI\n",
      "\n",
      "Kromosom terbaik: [4, 8, 5, 0, 6, 7, 8, 1]\n",
      "Fitness terbaik : 1.0316283806946795\n",
      "Hasil decode    : [-0.08970897089708929, 0.712671267126713]\n"
     ]
    }
   ],
   "source": [
    "populasi = generatePopulasi(ukpop)\n",
    "\n",
    "for i in range(generasi):\n",
    "    fitness = hitungFitnessAll(populasi, ukpop)\n",
    "    new_populasi = []\n",
    "\n",
    "    best = getElitisme(fitness)\n",
    "    new_populasi.append(populasi[best])\n",
    "    new_populasi.append(populasi[best])\n",
    "    i = 0\n",
    "    while (i < ukpop-2):\n",
    "        parent1 = tournamentSelection(populasi, uktour, ukpop)\n",
    "        parent2 = tournamentSelection(populasi, uktour, ukpop)\n",
    "        while (parent1 == parent2):\n",
    "            parent2 = tournamentSelection(populasi, uktour, ukpop)\n",
    "        par1 = copy.deepcopy(parent1)\n",
    "        par2 = copy.deepcopy(parent2)\n",
    "        child = crossover(par1, par2, pc)\n",
    "        child = mutasi(child[0], child[1], pm)\n",
    "        new_populasi += child\n",
    "        i += 2\n",
    "    populasi = new_populasi\n",
    "\n",
    "fitness = hitungFitnessAll(populasi, ukpop)\n",
    "result = getElitisme(fitness)\n",
    "\n",
    "print('           HASIL MINIMASI FUNGSI')\n",
    "print()\n",
    "print('Kromosom terbaik:', populasi[result])\n",
    "print('Fitness terbaik :', hitungFitness(populasi[result]))\n",
    "print('Hasil decode    :', decodeKromosom(populasi[result]))\n",
    "\n",
    "\n",
    "# ukpop = 50\n",
    "# uktour = 5\n",
    "# generasi = 100\n",
    "# pc = 0.76\n",
    "# pm = 0.31"
   ]
  },
  {
   "cell_type": "code",
   "execution_count": null,
   "metadata": {},
   "outputs": [],
   "source": []
  }
 ],
 "metadata": {
  "kernelspec": {
   "display_name": "Python 3",
   "language": "python",
   "name": "python3"
  },
  "language_info": {
   "codemirror_mode": {
    "name": "ipython",
    "version": 3
   },
   "file_extension": ".py",
   "mimetype": "text/x-python",
   "name": "python",
   "nbconvert_exporter": "python",
   "pygments_lexer": "ipython3",
   "version": "3.6.4"
  }
 },
 "nbformat": 4,
 "nbformat_minor": 2
}
