{
 "cells": [
  {
   "cell_type": "code",
   "execution_count": 1,
   "metadata": {},
   "outputs": [],
   "source": [
    "import numpy as np\n",
    "import random"
   ]
  },
  {
   "cell_type": "code",
   "execution_count": 19,
   "metadata": {},
   "outputs": [],
   "source": [
    "# def generateKromosom():\n",
    "#     x1 = []\n",
    "#     x2 = []\n",
    "    \n",
    "#     for i in range(3):\n",
    "#         x = random.randint(0,9)\n",
    "#         x1.append(x)\n",
    "#         y = random.randint(0,9)\n",
    "#         x2.append(y)\n",
    "        \n",
    "#     x1_val = -3 + (6 / (9 * (10**-1 + 10**-2 + 10**-3))) * ((x1[0]*10**-1)+(x1[1]*10**-2)+(x1[2]*10**-3))\n",
    "#     x2_val = -2 + (4 / (9 * (10**-1 + 10**-2 + 10**-3))) * ((x2[0]*10**-1)+(x2[1]*10**-2)+(x2[2]*10**-3))\n",
    "        \n",
    "    \n",
    "#     return [x1_val, x2_val] #ini 1 kromosom\n",
    "# HAPUS AJA GPP\n",
    "\n"
   ]
  },
  {
   "cell_type": "code",
   "execution_count": 65,
   "metadata": {},
   "outputs": [
    {
     "name": "stdout",
     "output_type": "stream",
     "text": [
      "[[2, 1, 9, 4, 9, 6], [8, 2, 1, 1, 8, 2], [8, 8, 6, 4, 9, 6], [7, 1, 0, 3, 4, 8], [5, 3, 3, 1, 2, 6], [4, 8, 8, 9, 8, 2], [0, 5, 4, 5, 9, 5], [1, 7, 4, 7, 1, 6], [6, 8, 6, 1, 9, 3], [5, 4, 9, 5, 6, 2], [5, 0, 3, 7, 2, 9], [7, 3, 4, 9, 0, 9], [6, 3, 5, 0, 2, 4], [3, 1, 5, 1, 8, 4], [5, 9, 3, 0, 7, 2], [7, 6, 1, 0, 1, 0], [0, 0, 2, 0, 6, 9], [4, 6, 6, 3, 1, 9], [6, 4, 5, 4, 4, 0], [8, 0, 2, 5, 7, 5]]\n",
      "halo\n",
      "[8, 2, 1, 1, 8, 2]\n",
      "kkkk\n",
      "[8, 0, 9, 8, 4, 6]\n",
      "[1.8588588588588593, 1.3873873873873879]\n"
     ]
    }
   ],
   "source": [
    "def generateKromosom(uk_krom):\n",
    "    krom = []\n",
    "    \n",
    "    for i in range(uk_krom):\n",
    "        k = random.randint(0,9)\n",
    "        krom.append(k)      \n",
    "    \n",
    "    return krom #ini 1 kromosom\n",
    "\n",
    "\n",
    "def decodeKromosom(krom): #ini masih statis buat kromosom 6 gen!!!!!\n",
    "    x1_val = -3 + (6 / (9 * (10**-1 + 10**-2 + 10**-3))) * ((krom[0]*10**-1)+(krom[1]*10**-2)+(krom[2]*10**-3))\n",
    "    x2_val = -2 + (4 / (9 * (10**-1 + 10**-2 + 10**-3))) * ((krom[3]*10**-1)+(krom[4]*10**-2)+(krom[5]*10**-3))\n",
    "    \n",
    "    return [x1_val, x2_val]\n",
    "\n",
    "# kro = generateKromosom(6)\n",
    "# print(kro)\n",
    "# print(decodeKromosom(kro))\n",
    "# INI NTAR HAPUS AJA 1 COMMENT WELEK\n",
    "\n",
    "def generatePopulasi(ukpop):\n",
    "    pop = []\n",
    "#     krom_val = []\n",
    "    for i in range(ukpop):\n",
    "        kro = generateKromosom(6) #kromosom 6 gen\n",
    "#         k_val = decodeKromosom(kro)\n",
    "        pop.append(kro)\n",
    "#         krom_val.append(k_val)\n",
    "        \n",
    "    return pop\n",
    "\n",
    "b = generatePopulasi(20)\n",
    "print(b)\n",
    "print(\"halo\")\n",
    "print(b[1])\n",
    "print(\"kkkk\")\n",
    "\n",
    "kro = [8, 0, 9, 8, 4, 6]\n",
    "print(kro)\n",
    "print(decodeKromosom(kro))"
   ]
  },
  {
   "cell_type": "code",
   "execution_count": 66,
   "metadata": {},
   "outputs": [],
   "source": [
    "def hitungFitnessAll(pop, ukpop):\n",
    "    fit_all = []\n",
    "    \n",
    "#     krom_val = []\n",
    "#     for i in range(ukpop):\n",
    "#         k = decodeKromosom(b[i])\n",
    "#         krom_val.append(k)\n",
    "    \n",
    "#     print(krom_val)\n",
    "    \n",
    "    for i in range(ukpop):\n",
    "        k = decodeKromosom(b[i])\n",
    "        fit_func = -(((4 - (2.1 * k[0]**2) + (k[0]**4 / 3)) * k[0]**2) + (k[0]*k[1]) + ((-4 + (4*k[1]**2))*k[1]**2))\n",
    "        fit_all.append(fit_func)\n",
    "        \n",
    "#         fit_func = -(((4 - (2.1 * pop[i][0]**2) + (pop[i][0]**4 / 3)) * pop[i][0]**2) + (pop[i][0]*pop[i][1]) + ((-4 + (4*pop[i][1]**2))*pop[i][1]**2))\n",
    "#         fit_all.append(fit_func)\n",
    "    \n",
    "    return fit_all"
   ]
  },
  {
   "cell_type": "code",
   "execution_count": 7,
   "metadata": {},
   "outputs": [],
   "source": [
    "def totalFitness(fit_all, ukpop):\n",
    "    sum_fit = 0\n",
    "    for i in range(ukpop):\n",
    "        sum_fit = sum_fit + fit_all[i]\n",
    "    return sum_fit\n",
    "\n",
    "def rouletteWheel(pop, ukpop, fit_all, sum_fit):\n",
    "    r = random.random()\n",
    "    krom = 0\n",
    "    while (r > 0):\n",
    "        r = r - (fit_all[krom]/sum_fit)\n",
    "        krom = krom + 1\n",
    "        \n",
    "    return krom\n",
    "\n"
   ]
  },
  {
   "cell_type": "code",
   "execution_count": null,
   "metadata": {},
   "outputs": [],
   "source": [
    "def crossover(parent, pc): #0.7\n",
    "    r = random.random()\n",
    "    if (r < pc):\n",
    "        point = random.randint(0,5)  #diganti berdasarkan ukuran gen\n",
    "        for i in range(point)"
   ]
  },
  {
   "cell_type": "code",
   "execution_count": null,
   "metadata": {},
   "outputs": [],
   "source": [
    "p = random.random(0,5)\n",
    "child = []\n",
    "child = parent\n",
    "\n",
    "[6, 4, 4][9, 8, 1]\n",
    "\n",
    "for p in range(6):\n",
    "    "
   ]
  },
  {
   "cell_type": "code",
   "execution_count": 18,
   "metadata": {},
   "outputs": [
    {
     "name": "stdout",
     "output_type": "stream",
     "text": [
      "0\n",
      "1\n",
      "2\n",
      "3\n",
      "4\n",
      "5\n",
      "6\n"
     ]
    }
   ],
   "source": [
    "for i in range(6):\n",
    "    print(i)\n",
    "    \n",
    "print(random.randint(0,6))"
   ]
  },
  {
   "cell_type": "code",
   "execution_count": 9,
   "metadata": {},
   "outputs": [
    {
     "ename": "SyntaxError",
     "evalue": "unexpected EOF while parsing (<ipython-input-9-68bf388e0b08>, line 2)",
     "output_type": "error",
     "traceback": [
      "\u001b[1;36m  File \u001b[1;32m\"<ipython-input-9-68bf388e0b08>\"\u001b[1;36m, line \u001b[1;32m2\u001b[0m\n\u001b[1;33m    \u001b[0m\n\u001b[1;37m    ^\u001b[0m\n\u001b[1;31mSyntaxError\u001b[0m\u001b[1;31m:\u001b[0m unexpected EOF while parsing\n"
     ]
    }
   ],
   "source": [
    "def mutasi(): #dibawah 0.3\n",
    "    "
   ]
  },
  {
   "cell_type": "code",
   "execution_count": null,
   "metadata": {},
   "outputs": [],
   "source": [
    "def generalReplacement():\n",
    "    "
   ]
  },
  {
   "cell_type": "code",
   "execution_count": null,
   "metadata": {},
   "outputs": [],
   "source": [
    "# x1 = []\n",
    "# x2 = []\n",
    "# for i in range(3):\n",
    "#     x = random.randint(0,9)\n",
    "#     x1.append(x)\n",
    "#     y = random.randint(0,9)\n",
    "#     x2.append(y)\n",
    "# print(x1)\n",
    "# print(x1[2])\n",
    "# print(x2)\n",
    "# x1_val = -3 + (6 / (9 * (10**-1 + 10**-2 + 10**-3))) * ((x1[0]*10**-1)+(x1[1]*10**-2)+(x1[2]*10**-3))\n",
    "# x2_val = -2 + (4 / (9 * (10**-1 + 10**-2 + 10**-3))) * ((x2[0]*10**-1)+(x2[1]*10**-2)+(x2[2]*10**-3))\n",
    "# print(x1_val)\n",
    "# print(x2_val)\n",
    "\n",
    "# pop = []\n",
    "# for i in range(100):\n",
    "#     kro = generateKromosom()\n",
    "#     pop.append(kro)\n",
    "    \n",
    "# print(pop[2])\n",
    "\n",
    "\n",
    "\n",
    "# def rouletteWheel(pop, ukpop, fitness, sum_fit):\n",
    "#     rand_sel = []\n",
    "#     pi_all = []\n",
    "#     pi_temp = []\n",
    "#     parent = []\n",
    "    \n",
    "#     for i in range(ukpop):\n",
    "#         pi = fitness[i]/sum_fit\n",
    "#         pi_all.append(pi)\n",
    "    \n",
    "#     sum_pi = 0\n",
    "#     for i in range(ukpop):\n",
    "#         sum_pi = sum_pi + pi[i]\n",
    "#         pi_temp.append(sum_pi)\n",
    "        \n",
    "        \n",
    "#     num_rand = random.random()\n",
    "#     while(num_rand > pi_temp[i]):\n",
    "#         i = i + 1\n",
    "#     parent.append(pop[i])\n",
    "\n",
    "#     num_rand = random.random()\n",
    "#     krom = 1\n",
    "#     while (num_rand > 0):\n",
    "#         r -= fitness[krom]/sum_fit\n",
    "#         krom++\n",
    "        \n",
    "#     for i in range(ukpop/3):\n",
    "#         i = 0\n",
    "#         num_rand = random.random()\n",
    "#         while(num_rand > pi_temp[i]):\n",
    "#             i = i + 1\n",
    "#         parent.append(pop[i])\n",
    "        \n",
    "#     return parent\n",
    "\n",
    "roulette wheel return individu\n",
    "terus crossover\n",
    "a = roulette wheel\n",
    "b = roulette wheel\n",
    "return anak baru"
   ]
  }
 ],
 "metadata": {
  "kernelspec": {
   "display_name": "Python 3",
   "language": "python",
   "name": "python3"
  },
  "language_info": {
   "codemirror_mode": {
    "name": "ipython",
    "version": 3
   },
   "file_extension": ".py",
   "mimetype": "text/x-python",
   "name": "python",
   "nbconvert_exporter": "python",
   "pygments_lexer": "ipython3",
   "version": "3.6.4"
  }
 },
 "nbformat": 4,
 "nbformat_minor": 2
}
