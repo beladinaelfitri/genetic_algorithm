{
 "cells": [
  {
   "cell_type": "code",
   "execution_count": 27,
   "metadata": {},
   "outputs": [],
   "source": [
    "import numpy as np\n",
    "import random"
   ]
  },
  {
   "cell_type": "code",
   "execution_count": 37,
   "metadata": {},
   "outputs": [],
   "source": [
    "def generateKromosom(uk_krom):\n",
    "    krom = []\n",
    "    \n",
    "    for i in range(uk_krom):\n",
    "        k = random.randint(0,9)\n",
    "        krom.append(k)      \n",
    "    \n",
    "    return krom #ini 1 kromosom\n",
    "\n",
    "\n",
    "def decodeKromosom(krom): #ini masih statis buat kromosom 6 gen!!!!!\n",
    "    x1_val = -3 + (6 / (9 * (10**-1 + 10**-2 + 10**-3))) * ((krom[0]*10**-1)+(krom[1]*10**-2)+(krom[2]*10**-3))\n",
    "    x2_val = -2 + (4 / (9 * (10**-1 + 10**-2 + 10**-3))) * ((krom[3]*10**-1)+(krom[4]*10**-2)+(krom[5]*10**-3))\n",
    "    \n",
    "    return [x1_val, x2_val]\n",
    "\n",
    "# kro = generateKromosom(6)\n",
    "# print(kro)\n",
    "# print(decodeKromosom(kro))\n",
    "# INI NTAR HAPUS AJA 1 COMMENT WELEK\n",
    "\n",
    "def generatePopulasi(ukpop):\n",
    "    pop = []\n",
    "#     krom_val = []\n",
    "    for i in range(ukpop):\n",
    "        kro = generateKromosom(6) #kromosom 6 gen\n",
    "#         k_val = decodeKromosom(kro)\n",
    "        pop.append(kro)\n",
    "#         krom_val.append(k_val)\n",
    "        \n",
    "    return pop\n"
   ]
  },
  {
   "cell_type": "code",
   "execution_count": 38,
   "metadata": {},
   "outputs": [],
   "source": [
    "def hitungFitnessAll(pop, ukpop):\n",
    "    fit_all = []\n",
    "    \n",
    "#     krom_val = []\n",
    "#     for i in range(ukpop):\n",
    "#         k = decodeKromosom(b[i])\n",
    "#         krom_val.append(k)\n",
    "    \n",
    "#     print(krom_val)\n",
    "    \n",
    "    for i in range(ukpop):\n",
    "        k = decodeKromosom(pop[i])\n",
    "        fit_func = 1/((((4 - (2.1 * k[0]**2) + (k[0]**4 / 3)) * k[0]**2) + (k[0]*k[1]) + ((-4 + (4*k[1]**2))*k[1]**2))+0.01)\n",
    "        fit_all.append(fit_func)\n",
    "        \n",
    "#         fit_func = -(((4 - (2.1 * pop[i][0]**2) + (pop[i][0]**4 / 3)) * pop[i][0]**2) + (pop[i][0]*pop[i][1]) + ((-4 + (4*pop[i][1]**2))*pop[i][1]**2))\n",
    "#         fit_all.append(fit_func)\n",
    "    \n",
    "    return fit_all"
   ]
  },
  {
   "cell_type": "code",
   "execution_count": 39,
   "metadata": {},
   "outputs": [],
   "source": [
    "def totalFitness(fit_all, ukpop):\n",
    "    sum_fit = 0\n",
    "    for i in range(ukpop):\n",
    "        sum_fit = sum_fit + fit_all[i]\n",
    "    return sum_fit\n",
    "\n",
    "def rouletteWheel(pop, fit_all, sum_fit):\n",
    "    r = random.random()\n",
    "    krom = 0\n",
    "    while (r > 0):\n",
    "        r = r - (fit_all[krom]/sum_fit)\n",
    "        krom = krom + 1\n",
    "        \n",
    "    return krom\n",
    "\n",
    "\n",
    "# p.append(pop[rouletteWheel(populasi, ukpop, fitness, sum_fit)])\n",
    "# p.append(rouletteWheel(populasi, ukpop, fitness, sum_fit))\n",
    "\n",
    "# crossover()"
   ]
  },
  {
   "cell_type": "code",
   "execution_count": 40,
   "metadata": {},
   "outputs": [],
   "source": [
    "def crossover(par, pc): #0.7\n",
    "    \n",
    "    r = random.random()\n",
    "    if (r < pc):\n",
    "        point = random.randint(0,5)  #diganti berdasarkan ukuran gen\n",
    "        for i in range(point):\n",
    "            par[0][i], par[1][i] = par[1][i], par[0][i]\n",
    "    return par"
   ]
  },
  {
   "cell_type": "code",
   "execution_count": 41,
   "metadata": {},
   "outputs": [],
   "source": [
    "def mutasi(par, pm): #dibawah 0.3, nanti 0.17\n",
    "    r = random.random()\n",
    "    if (r < pm):\n",
    "        rep0 = random.randint(0,9)\n",
    "        mut0 = random.randint(0,5)\n",
    "        rep1 = random.randint(0,9)\n",
    "        mut1 = random.randint(0,5)\n",
    "        par[0][mut0] = rep0\n",
    "        par[1][mut1] = rep1\n",
    "    return par"
   ]
  },
  {
   "cell_type": "code",
   "execution_count": 42,
   "metadata": {},
   "outputs": [],
   "source": [
    "def getElitisme(fit_all):\n",
    "    numpy.argsort(fit_all)\n",
    "    \n",
    "    return numpy.argsort(myList)[0]"
   ]
  },
  {
   "cell_type": "code",
   "execution_count": 43,
   "metadata": {},
   "outputs": [],
   "source": [
    "ukpop = 10\n",
    "ukkrom = 6\n",
    "max_gen = 10\n",
    "pc = 0.7\n",
    "pm = 0.17"
   ]
  },
  {
   "cell_type": "code",
   "execution_count": 45,
   "metadata": {},
   "outputs": [
    {
     "name": "stdout",
     "output_type": "stream",
     "text": [
      "[[8, 2, 8, 6, 6, 0], [0, 4, 6, 9, 2, 8], [7, 1, 7, 7, 0, 5], [9, 6, 8, 5, 9, 6], [1, 9, 0, 3, 1, 2], [8, 4, 2, 9, 5, 5], [9, 2, 6, 7, 1, 2], [8, 0, 9, 3, 8, 8], [1, 9, 6, 9, 8, 1], [5, 6, 9, 2, 5, 2]]\n",
      "10\n"
     ]
    },
    {
     "ename": "IndexError",
     "evalue": "list index out of range",
     "output_type": "error",
     "traceback": [
      "\u001b[1;31m---------------------------------------------------------------------------\u001b[0m",
      "\u001b[1;31mIndexError\u001b[0m                                Traceback (most recent call last)",
      "\u001b[1;32m<ipython-input-45-b75b4d736866>\u001b[0m in \u001b[0;36m<module>\u001b[1;34m()\u001b[0m\n\u001b[0;32m     11\u001b[0m     \u001b[1;32mwhile\u001b[0m \u001b[1;33m(\u001b[0m\u001b[0mg\u001b[0m \u001b[1;33m<\u001b[0m \u001b[0mukpop\u001b[0m\u001b[1;33m)\u001b[0m\u001b[1;33m:\u001b[0m\u001b[1;33m\u001b[0m\u001b[0m\n\u001b[0;32m     12\u001b[0m         \u001b[0mprint\u001b[0m\u001b[1;33m(\u001b[0m\u001b[0mrouletteWheel\u001b[0m\u001b[1;33m(\u001b[0m\u001b[0mpopulasi\u001b[0m\u001b[1;33m,\u001b[0m \u001b[0mukpop\u001b[0m\u001b[1;33m,\u001b[0m \u001b[0mfitness\u001b[0m\u001b[1;33m,\u001b[0m \u001b[0msum_fit\u001b[0m\u001b[1;33m)\u001b[0m\u001b[1;33m)\u001b[0m\u001b[1;33m\u001b[0m\u001b[0m\n\u001b[1;32m---> 13\u001b[1;33m         \u001b[0mpar\u001b[0m\u001b[1;33m.\u001b[0m\u001b[0mappend\u001b[0m\u001b[1;33m(\u001b[0m\u001b[0mpopulasi\u001b[0m\u001b[1;33m[\u001b[0m\u001b[0mrouletteWheel\u001b[0m\u001b[1;33m(\u001b[0m\u001b[0mpopulasi\u001b[0m\u001b[1;33m,\u001b[0m \u001b[0mukpop\u001b[0m\u001b[1;33m,\u001b[0m \u001b[0mfitness\u001b[0m\u001b[1;33m,\u001b[0m \u001b[0msum_fit\u001b[0m\u001b[1;33m)\u001b[0m\u001b[1;33m]\u001b[0m\u001b[1;33m)\u001b[0m\u001b[1;33m\u001b[0m\u001b[0m\n\u001b[0m\u001b[0;32m     14\u001b[0m         \u001b[0mpar\u001b[0m\u001b[1;33m.\u001b[0m\u001b[0mappend\u001b[0m\u001b[1;33m(\u001b[0m\u001b[0mpopulasi\u001b[0m\u001b[1;33m[\u001b[0m\u001b[0mrouletteWheel\u001b[0m\u001b[1;33m(\u001b[0m\u001b[0mpopulasi\u001b[0m\u001b[1;33m,\u001b[0m \u001b[0mukpop\u001b[0m\u001b[1;33m,\u001b[0m \u001b[0mfitness\u001b[0m\u001b[1;33m,\u001b[0m \u001b[0msum_fit\u001b[0m\u001b[1;33m)\u001b[0m\u001b[1;33m]\u001b[0m\u001b[1;33m)\u001b[0m\u001b[1;33m\u001b[0m\u001b[0m\n\u001b[0;32m     15\u001b[0m         \u001b[0moffspring\u001b[0m \u001b[1;33m=\u001b[0m \u001b[0mcrossover\u001b[0m\u001b[1;33m(\u001b[0m\u001b[0mpar\u001b[0m\u001b[1;33m,\u001b[0m \u001b[0mpc\u001b[0m\u001b[1;33m)\u001b[0m\u001b[1;33m\u001b[0m\u001b[0m\n",
      "\u001b[1;31mIndexError\u001b[0m: list index out of range"
     ]
    }
   ],
   "source": [
    "populasi = generatePopulasi(ukpop)\n",
    "populasi_new = []\n",
    "par = []\n",
    "print(populasi)\n",
    "for i in range(max_gen):\n",
    "    fitness = hitungFitnessAll(populasi, ukpop)\n",
    "    populasi_new.append(getElitisme(fitness))\n",
    "    populasi_new.append(getElitisme(fitness))\n",
    "    sum_fit = totalFitness(fitness, ukpop)\n",
    "    g = 0\n",
    "    while (g < ukpop):\n",
    "        print(rouletteWheel(populasi, fitness, sum_fit))\n",
    "        par.append(populasi[rouletteWheel(populasi, fitness, sum_fit)])\n",
    "        par.append(populasi[rouletteWheel(populasi, fitness, sum_fit)])\n",
    "        offspring = crossover(par, pc)\n",
    "        offspring = mutasi(par, pm)\n",
    "        populasi_new.append(offspring)\n",
    "        g = g + 1\n",
    "    print(max(fitness))\n",
    "    populasi = populasi_new"
   ]
  },
  {
   "cell_type": "code",
   "execution_count": 12,
   "metadata": {},
   "outputs": [
    {
     "ename": "SyntaxError",
     "evalue": "unexpected EOF while parsing (<ipython-input-12-3f76f91cf96f>, line 2)",
     "output_type": "error",
     "traceback": [
      "\u001b[1;36m  File \u001b[1;32m\"<ipython-input-12-3f76f91cf96f>\"\u001b[1;36m, line \u001b[1;32m2\u001b[0m\n\u001b[1;33m    \u001b[0m\n\u001b[1;37m    ^\u001b[0m\n\u001b[1;31mSyntaxError\u001b[0m\u001b[1;31m:\u001b[0m unexpected EOF while parsing\n"
     ]
    }
   ],
   "source": [
    "def generalReplacement(pop, chi):\n",
    "    "
   ]
  },
  {
   "cell_type": "code",
   "execution_count": null,
   "metadata": {},
   "outputs": [],
   "source": [
    " parent1 = pop[rouletteWheel(populasi, ukpop, fitness, sum_fit)]\n",
    "        parent2 = pop[rouletteWheel(populasi, ukpop, fitness, sum_fit)]\n",
    "\n",
    "\n",
    "# x1 = []\n",
    "# x2 = []\n",
    "# for i in range(3):\n",
    "#     x = random.randint(0,9)\n",
    "#     x1.append(x)\n",
    "#     y = random.randint(0,9)\n",
    "#     x2.append(y)\n",
    "# print(x1)\n",
    "# print(x1[2])\n",
    "# print(x2)\n",
    "# x1_val = -3 + (6 / (9 * (10**-1 + 10**-2 + 10**-3))) * ((x1[0]*10**-1)+(x1[1]*10**-2)+(x1[2]*10**-3))\n",
    "# x2_val = -2 + (4 / (9 * (10**-1 + 10**-2 + 10**-3))) * ((x2[0]*10**-1)+(x2[1]*10**-2)+(x2[2]*10**-3))\n",
    "# print(x1_val)\n",
    "# print(x2_val)\n",
    "\n",
    "# pop = []\n",
    "# for i in range(100):\n",
    "#     kro = generateKromosom()\n",
    "#     pop.append(kro)\n",
    "    \n",
    "# print(pop[2])\n",
    "\n",
    "\n",
    "# def generateKromosom():\n",
    "#     x1 = []\n",
    "#     x2 = []\n",
    "    \n",
    "#     for i in range(3):\n",
    "#         x = random.randint(0,9)\n",
    "#         x1.append(x)\n",
    "#         y = random.randint(0,9)\n",
    "#         x2.append(y)\n",
    "        \n",
    "#     x1_val = -3 + (6 / (9 * (10**-1 + 10**-2 + 10**-3))) * ((x1[0]*10**-1)+(x1[1]*10**-2)+(x1[2]*10**-3))\n",
    "#     x2_val = -2 + (4 / (9 * (10**-1 + 10**-2 + 10**-3))) * ((x2[0]*10**-1)+(x2[1]*10**-2)+(x2[2]*10**-3))\n",
    "        \n",
    "    \n",
    "#     return [x1_val, x2_val] #ini 1 kromosom\n",
    "# HAPUS AJA GPP\n",
    "\n",
    "\n",
    "\n",
    "# def rouletteWheel(pop, ukpop, fitness, sum_fit):\n",
    "#     rand_sel = []\n",
    "#     pi_all = []\n",
    "#     pi_temp = []\n",
    "#     parent = []\n",
    "    \n",
    "#     for i in range(ukpop):\n",
    "#         pi = fitness[i]/sum_fit\n",
    "#         pi_all.append(pi)\n",
    "    \n",
    "#     sum_pi = 0\n",
    "#     for i in range(ukpop):\n",
    "#         sum_pi = sum_pi + pi[i]\n",
    "#         pi_temp.append(sum_pi)\n",
    "        \n",
    "        \n",
    "#     num_rand = random.random()\n",
    "#     while(num_rand > pi_temp[i]):\n",
    "#         i = i + 1\n",
    "#     parent.append(pop[i])\n",
    "\n",
    "#     num_rand = random.random()\n",
    "#     krom = 1\n",
    "#     while (num_rand > 0):\n",
    "#         r -= fitness[krom]/sum_fit\n",
    "#         krom++\n",
    "        \n",
    "#     for i in range(ukpop/3):\n",
    "#         i = 0\n",
    "#         num_rand = random.random()\n",
    "#         while(num_rand > pi_temp[i]):\n",
    "#             i = i + 1\n",
    "#         parent.append(pop[i])\n",
    "        \n",
    "#     return parent\n",
    "\n",
    "\n",
    "x = [[1,2,3],[4,5,6]]\n",
    "print(x)\n",
    "print(x[0])\n",
    "print(x[0][2])\n",
    "\n",
    "p = 3\n",
    "for i in range(p,6):\n",
    "    print(i)\n",
    "    \n",
    "    \n",
    "\n",
    "roulette wheel return individu\n",
    "terus crossover\n",
    "a = roulette wheel\n",
    "b = roulette wheel\n",
    "return anak baru\n",
    "\n",
    "\n",
    "\n",
    "b = generatePopulasi(20)\n",
    "print(b)\n",
    "print(\"halo\")\n",
    "print(b[1])\n",
    "print(\"kkkk\")\n",
    "\n",
    "kro = [8, 0, 9, 8, 4, 6]\n",
    "print(kro)\n",
    "print(decodeKromosom(kro))"
   ]
  },
  {
   "cell_type": "code",
   "execution_count": 16,
   "metadata": {},
   "outputs": [
    {
     "name": "stdout",
     "output_type": "stream",
     "text": [
      "3\n"
     ]
    }
   ],
   "source": [
    "import numpy\n",
    "myList = [22, 6, 11, 4, 7]\n",
    "numpy.argsort(myList)\n",
    "print(numpy.argsort(myList)[0])"
   ]
  },
  {
   "cell_type": "code",
   "execution_count": null,
   "metadata": {},
   "outputs": [],
   "source": []
  }
 ],
 "metadata": {
  "kernelspec": {
   "display_name": "Python 3",
   "language": "python",
   "name": "python3"
  },
  "language_info": {
   "codemirror_mode": {
    "name": "ipython",
    "version": 3
   },
   "file_extension": ".py",
   "mimetype": "text/x-python",
   "name": "python",
   "nbconvert_exporter": "python",
   "pygments_lexer": "ipython3",
   "version": "3.6.4"
  }
 },
 "nbformat": 4,
 "nbformat_minor": 2
}
