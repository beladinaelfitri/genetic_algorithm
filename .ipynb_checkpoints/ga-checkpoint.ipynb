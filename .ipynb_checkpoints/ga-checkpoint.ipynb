{
 "cells": [
  {
   "cell_type": "code",
   "execution_count": 6,
   "metadata": {},
   "outputs": [],
   "source": [
    "import numpy as np\n",
    "import random"
   ]
  },
  {
   "cell_type": "code",
   "execution_count": 87,
   "metadata": {},
   "outputs": [],
   "source": [
    "def generateKromosom():\n",
    "    x1 = []\n",
    "    x2 = []\n",
    "    \n",
    "    for i in range(3):\n",
    "        x = random.randint(0,9)\n",
    "        x1.append(x)\n",
    "        y = random.randint(0,9)\n",
    "        x2.append(y)\n",
    "        \n",
    "    x1_val = -3 + (6 / (9 * (10**-1 + 10**-2 + 10**-3))) * ((x1[0]*10**-1)+(x1[1]*10**-2)+(x1[2]*10**-3))\n",
    "    x2_val = -2 + (4 / (9 * (10**-1 + 10**-2 + 10**-3))) * ((x2[0]*10**-1)+(x2[1]*10**-2)+(x2[2]*10**-3))\n",
    "        \n",
    "    \n",
    "    return [x1_val, x2_val] #ini kromosom"
   ]
  },
  {
   "cell_type": "code",
   "execution_count": 84,
   "metadata": {},
   "outputs": [],
   "source": [
    "def generatePopulasi(ukpop):\n",
    "    pop = []\n",
    "    for i in range(ukpop):\n",
    "        kro = generateKromosom()\n",
    "        pop.append(kro)\n",
    "        \n",
    "    return pop"
   ]
  },
  {
   "cell_type": "code",
   "execution_count": 91,
   "metadata": {},
   "outputs": [
    {
     "name": "stdout",
     "output_type": "stream",
     "text": [
      "[0, 2, 7]\n",
      "7\n",
      "[8, 8, 1]\n",
      "-2.8378378378378377\n",
      "1.527527527527528\n",
      "0.9579579579579587\n"
     ]
    }
   ],
   "source": [
    "x1 = []\n",
    "x2 = []\n",
    "for i in range(3):\n",
    "    x = random.randint(0,9)\n",
    "    x1.append(x)\n",
    "    y = random.randint(0,9)\n",
    "    x2.append(y)\n",
    "print(x1)\n",
    "print(x1[2])\n",
    "print(x2)\n",
    "x1_val = -3 + (6 / (9 * (10**-1 + 10**-2 + 10**-3))) * ((x1[0]*10**-1)+(x1[1]*10**-2)+(x1[2]*10**-3))\n",
    "x2_val = -2 + (4 / (9 * (10**-1 + 10**-2 + 10**-3))) * ((x2[0]*10**-1)+(x2[1]*10**-2)+(x2[2]*10**-3))\n",
    "print(x1_val)\n",
    "print(x2_val)\n",
    "\n",
    "pop = []\n",
    "for i in range(100):\n",
    "    kro = generateKromosom()\n",
    "    pop.append(kro)\n",
    "    \n",
    "print(pop[2][0])"
   ]
  },
  {
   "cell_type": "code",
   "execution_count": 93,
   "metadata": {},
   "outputs": [],
   "source": [
    "def hitungFitnessAll(pop, ukpop):\n",
    "    fit_all = []\n",
    "    for i in range(ukpop):\n",
    "        fit_func = -(((4 - (2.1 * pop[i][0]**2) + (pop[i][0]**4 / 3)) * pop[i][0]**2) + (pop[i][0]*pop[i][1]) + ((-4 + (4*pop[i][1]**2))*pop[i][1]**2))\n",
    "        fit_all.append(fit_func)\n",
    "    \n",
    "    return fit_all"
   ]
  },
  {
   "cell_type": "code",
   "execution_count": null,
   "metadata": {},
   "outputs": [],
   "source": [
    "def totalFitness(fit_all, ukpop):\n",
    "    sum_fit = 0\n",
    "    for i in range(ukpop):\n",
    "        sum_fit = sum_fit + fit_all[i]\n",
    "    return sum_fit\n",
    "\n",
    "def rouletteWheel(pop, ukpop, fitness, sum_fit):\n",
    "    rand_sel = []\n",
    "    pi_all = []\n",
    "    pi_temp = []\n",
    "    parent = []\n",
    "    \n",
    "    for i in range(ukpop):\n",
    "        pi = fitness[i]/sum_fit\n",
    "        pi_all.append(pi)\n",
    "    \n",
    "    sum_pi = 0\n",
    "    for i in range(ukpop):\n",
    "        sum_pi = sum_pi + pi[i]\n",
    "        pi_temp.append(sum_pi)\n",
    "        \n",
    "#     num_rand = random.random()\n",
    "#     krom = 1\n",
    "#     while (num_rand > 0):\n",
    "#         r -= fitness[krom]/sum_fit\n",
    "#         krom++\n",
    "        \n",
    "    for i in range(ukpop/3):\n",
    "        i = 0\n",
    "        num_rand = random.random()\n",
    "        while(num_rand > pi_temp[i]):\n",
    "            i++\n",
    "        parent.append(pop[i])\n",
    "        \n",
    "    return parent"
   ]
  },
  {
   "cell_type": "code",
   "execution_count": null,
   "metadata": {},
   "outputs": [],
   "source": [
    "def crossover(parent, pc): #0.7\n",
    "    r = random.random()\n",
    "    if (r < pc):\n",
    "        point = random.randint(0,5)  #diganti berdasarkan ukuran gen\n",
    "        for i in range(point)"
   ]
  },
  {
   "cell_type": "code",
   "execution_count": null,
   "metadata": {},
   "outputs": [],
   "source": [
    "p = random.random(0,5)\n",
    "child = []\n",
    "child = parent\n",
    "for p in range(6):\n",
    "    "
   ]
  },
  {
   "cell_type": "code",
   "execution_count": 18,
   "metadata": {},
   "outputs": [
    {
     "name": "stdout",
     "output_type": "stream",
     "text": [
      "0\n",
      "1\n",
      "2\n",
      "3\n",
      "4\n",
      "5\n",
      "6\n"
     ]
    }
   ],
   "source": [
    "for i in range(6):\n",
    "    print(i)\n",
    "    \n",
    "print(random.randint(0,6))"
   ]
  },
  {
   "cell_type": "code",
   "execution_count": 9,
   "metadata": {},
   "outputs": [
    {
     "ename": "SyntaxError",
     "evalue": "unexpected EOF while parsing (<ipython-input-9-68bf388e0b08>, line 2)",
     "output_type": "error",
     "traceback": [
      "\u001b[1;36m  File \u001b[1;32m\"<ipython-input-9-68bf388e0b08>\"\u001b[1;36m, line \u001b[1;32m2\u001b[0m\n\u001b[1;33m    \u001b[0m\n\u001b[1;37m    ^\u001b[0m\n\u001b[1;31mSyntaxError\u001b[0m\u001b[1;31m:\u001b[0m unexpected EOF while parsing\n"
     ]
    }
   ],
   "source": [
    "def mutasi(): #dibawah 0.3\n",
    "    "
   ]
  },
  {
   "cell_type": "code",
   "execution_count": null,
   "metadata": {},
   "outputs": [],
   "source": [
    "def generalReplacement():\n",
    "    "
   ]
  }
 ],
 "metadata": {
  "kernelspec": {
   "display_name": "Python 3",
   "language": "python",
   "name": "python3"
  },
  "language_info": {
   "codemirror_mode": {
    "name": "ipython",
    "version": 3
   },
   "file_extension": ".py",
   "mimetype": "text/x-python",
   "name": "python",
   "nbconvert_exporter": "python",
   "pygments_lexer": "ipython3",
   "version": "3.6.4"
  }
 },
 "nbformat": 4,
 "nbformat_minor": 2
}
