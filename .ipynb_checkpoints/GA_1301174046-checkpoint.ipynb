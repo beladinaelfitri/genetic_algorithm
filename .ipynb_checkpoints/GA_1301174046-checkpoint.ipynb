{
 "cells": [
  {
   "cell_type": "code",
   "execution_count": 12,
   "metadata": {},
   "outputs": [],
   "source": [
    "import numpy as np\n",
    "import random"
   ]
  },
  {
   "cell_type": "code",
   "execution_count": 36,
   "metadata": {},
   "outputs": [
    {
     "name": "stdout",
     "output_type": "stream",
     "text": [
      "[3, 7, 5, 0, 4, 6, 5, 7]\n"
     ]
    }
   ],
   "source": [
    "def generateKromosom(uk_krom):\n",
    "    krom = []  \n",
    "    for i in range(uk_krom):\n",
    "        krom.append(random.randint(0,9))      \n",
    "    \n",
    "    return krom\n",
    "\n",
    "def generatePopulasi(uk_pop):\n",
    "    pop = []\n",
    "    for i in range(uk_pop):\n",
    "        pop.append(generateKromosom(8))\n",
    "        \n",
    "    return pop"
   ]
  },
  {
   "cell_type": "code",
   "execution_count": 38,
   "metadata": {},
   "outputs": [],
   "source": [
    "def decodeKromosom(krom): \n",
    "    x1_val = -3 + (6 / (9 * (10**-1 + 10**-2 + 10**-3 + 10**-4))) * ((krom[0]*10**-1)+(krom[1]*10**-2)+(krom[2]*10**-3)+(krom[3]*10**-4))\n",
    "    x2_val = -2 + (4 / (9 * (10**-1 + 10**-2 + 10**-3 + 10**-4))) * ((krom[4]*10**-1)+(krom[5]*10**-2)+(krom[6]*10**-3)+(krom[7]*10**-4))\n",
    "    \n",
    "    return [x1_val, x2_val]\n",
    "\n",
    "def hitungFitness(krom):\n",
    "    k = decodeKromosom(krom)\n",
    "    return ((((4 - (2.1 * k[0]**2) + (k[0]**4 / 3)) * k[0]**2) + (k[0]*k[1]) + ((-4 + (4*k[1]**2))*k[1]**2)))\n",
    "\n",
    "def hitungFitnessAll(pop, uk_pop):\n",
    "    fit_all = []    \n",
    "    for i in range(uk_pop):\n",
    "        k = decodeKromosom(pop[i])\n",
    "        fit_val = -((((4 - (2.1 * k[0]**2) + (k[0]**4 / 3)) * k[0]**2) + (k[0]*k[1]) + ((-4 + (4*k[1]**2))*k[1]**2)))\n",
    "        fit_all.append(fit_val)\n",
    "    \n",
    "    return fit_all"
   ]
  },
  {
   "cell_type": "code",
   "execution_count": 91,
   "metadata": {},
   "outputs": [],
   "source": [
    "# def tournamentSelection(pop, uk_tour, uk_pop):\n",
    "#     best_krom = []\n",
    "#     fit = hitungFitnessAll(pop, uk_pop)\n",
    "#     for i in range(1, uk_tour):\n",
    "#         krom = pop[random.randint(0,uk_pop-1)]\n",
    "#         if (best_krom == [] or fit[krom] > fit[best]):\n",
    "#             best_krom.append(krom)\n",
    "#     print('return best krom')\n",
    "#     print(best_krom)\n",
    "#     return best_krom\n",
    "\n",
    "def tournamentSelection(pop, uk_tour, uk_pop):\n",
    "    best_krom = []\n",
    "    fit = hitungFitnessAll(pop, uk_pop)\n",
    "    for i in range(1, uk_tour):\n",
    "        krom = pop[random.randint(0,uk_pop-1)]\n",
    "        if (best_krom == [] or hitungFitness(krom) > hitungFitness(best_krom)):\n",
    "            best_krom = krom\n",
    "    return best_krom"
   ]
  },
  {
   "cell_type": "code",
   "execution_count": 92,
   "metadata": {},
   "outputs": [],
   "source": [
    "def crossover(par, pc):\n",
    "    r = random.random()\n",
    "    if (r < pc):\n",
    "        point = random.randint(0,7)\n",
    "        for i in range(point):\n",
    "            par[0][i], par[1][i] = par[1][i], par[0][i]\n",
    "        \n",
    "    return par"
   ]
  },
  {
   "cell_type": "code",
   "execution_count": 93,
   "metadata": {},
   "outputs": [],
   "source": [
    "def mutasi(par, pm):\n",
    "    r = random.random()\n",
    "    if (r < pm):\n",
    "        par[0][mut0] = random.randint(0,9)\n",
    "        par[1][mut1] = random.randint(0,9)\n",
    "    return par"
   ]
  },
  {
   "cell_type": "code",
   "execution_count": 94,
   "metadata": {},
   "outputs": [],
   "source": [
    "def getElitisme(fit_all):    \n",
    "    return fit_all.index(max(fit_all))"
   ]
  },
  {
   "cell_type": "code",
   "execution_count": 95,
   "metadata": {},
   "outputs": [
    {
     "name": "stdout",
     "output_type": "stream",
     "text": [
      "krom best : [4, 9, 0, 7, 6, 9, 6, 9]\n",
      "value [-0.055505550555055905, 0.7878787878787881]\n",
      "\n",
      "\n",
      "PENCARIAN PARENT\n"
     ]
    },
    {
     "ename": "TypeError",
     "evalue": "list indices must be integers or slices, not list",
     "output_type": "error",
     "traceback": [
      "\u001b[1;31m---------------------------------------------------------------------------\u001b[0m",
      "\u001b[1;31mTypeError\u001b[0m                                 Traceback (most recent call last)",
      "\u001b[1;32m<ipython-input-95-bd2a002b49e4>\u001b[0m in \u001b[0;36m<module>\u001b[1;34m()\u001b[0m\n\u001b[0;32m     23\u001b[0m     \u001b[1;32mwhile\u001b[0m \u001b[1;33m(\u001b[0m\u001b[0mt\u001b[0m \u001b[1;33m<\u001b[0m \u001b[0mn_pop\u001b[0m\u001b[1;33m)\u001b[0m\u001b[1;33m:\u001b[0m\u001b[1;33m\u001b[0m\u001b[0m\n\u001b[0;32m     24\u001b[0m         \u001b[0mpar\u001b[0m \u001b[1;33m=\u001b[0m \u001b[1;33m[\u001b[0m\u001b[1;33m]\u001b[0m\u001b[1;33m\u001b[0m\u001b[0m\n\u001b[1;32m---> 25\u001b[1;33m         \u001b[0mpar\u001b[0m\u001b[1;33m.\u001b[0m\u001b[0mappend\u001b[0m\u001b[1;33m(\u001b[0m\u001b[0mpopulasi\u001b[0m\u001b[1;33m[\u001b[0m\u001b[0mtournamentSelection\u001b[0m\u001b[1;33m(\u001b[0m\u001b[0mpopulasi\u001b[0m\u001b[1;33m,\u001b[0m \u001b[0mn_tour\u001b[0m\u001b[1;33m,\u001b[0m \u001b[0mn_pop\u001b[0m\u001b[1;33m)\u001b[0m\u001b[1;33m]\u001b[0m\u001b[1;33m)\u001b[0m\u001b[1;33m\u001b[0m\u001b[0m\n\u001b[0m\u001b[0;32m     26\u001b[0m         \u001b[0mpar\u001b[0m\u001b[1;33m.\u001b[0m\u001b[0mappend\u001b[0m\u001b[1;33m(\u001b[0m\u001b[0mpopulasi\u001b[0m\u001b[1;33m[\u001b[0m\u001b[0mtournamentSelection\u001b[0m\u001b[1;33m(\u001b[0m\u001b[0mpopulasi\u001b[0m\u001b[1;33m,\u001b[0m \u001b[0mn_tour\u001b[0m\u001b[1;33m,\u001b[0m \u001b[0mn_pop\u001b[0m\u001b[1;33m)\u001b[0m\u001b[1;33m]\u001b[0m\u001b[1;33m)\u001b[0m\u001b[1;33m\u001b[0m\u001b[0m\n\u001b[0;32m     27\u001b[0m         \u001b[0moffspring\u001b[0m \u001b[1;33m=\u001b[0m \u001b[0mcrossover\u001b[0m\u001b[1;33m(\u001b[0m\u001b[0mpar\u001b[0m\u001b[1;33m,\u001b[0m \u001b[0mpc\u001b[0m\u001b[1;33m)\u001b[0m\u001b[1;33m\u001b[0m\u001b[0m\n",
      "\u001b[1;31mTypeError\u001b[0m: list indices must be integers or slices, not list"
     ]
    }
   ],
   "source": [
    "n_pop = 50\n",
    "n_krom = 8\n",
    "n_tour = 50//3\n",
    "max_gen = 100\n",
    "pc = 0.7\n",
    "pm = 0.18\n",
    "\n",
    "populasi = generatePopulasi(n_pop)\n",
    "newpop = []\n",
    "    \n",
    "for i in range(max_gen):\n",
    "    fitness = hitungFitnessAll(populasi, n_pop)\n",
    "    best = getElitisme(fitness)\n",
    "    print('krom best :', populasi[best])\n",
    "    print('value',decodeKromosom(populasi[best]))\n",
    "    print()\n",
    "    print()\n",
    "\n",
    "    print(\"PENCARIAN PARENT\")\n",
    "    t = 0\n",
    "    while (t < n_pop):\n",
    "        par = []\n",
    "        par.append(populasi[tournamentSelection(populasi, n_tour, n_pop)])\n",
    "        par.append(populasi[tournamentSelection(populasi, n_tour, n_pop)])\n",
    "        offspring = crossover(par, pc)\n",
    "        offspring = mutasi(par, pm)\n",
    "        newpop.append(offspring[0])\n",
    "        newpop.append(offspring[1])\n",
    "        t = t + 1\n",
    "    pop = newpop\n",
    "\n",
    "print('FINISH')"
   ]
  },
  {
   "cell_type": "code",
   "execution_count": null,
   "metadata": {},
   "outputs": [],
   "source": []
  },
  {
   "cell_type": "code",
   "execution_count": null,
   "metadata": {},
   "outputs": [],
   "source": []
  }
 ],
 "metadata": {
  "kernelspec": {
   "display_name": "Python 3",
   "language": "python",
   "name": "python3"
  },
  "language_info": {
   "codemirror_mode": {
    "name": "ipython",
    "version": 3
   },
   "file_extension": ".py",
   "mimetype": "text/x-python",
   "name": "python",
   "nbconvert_exporter": "python",
   "pygments_lexer": "ipython3",
   "version": "3.6.4"
  }
 },
 "nbformat": 4,
 "nbformat_minor": 2
}
