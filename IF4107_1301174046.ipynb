{
 "cells": [
  {
   "cell_type": "code",
   "execution_count": 1,
   "metadata": {},
   "outputs": [],
   "source": [
    "import random\n",
    "import copy"
   ]
  },
  {
   "cell_type": "code",
   "execution_count": 2,
   "metadata": {},
   "outputs": [],
   "source": [
    "def generateKromosom(uk_krom):\n",
    "    krom = []  \n",
    "    for i in range(uk_krom):\n",
    "        krom.append(random.randint(0,9))      \n",
    "    \n",
    "    return krom\n",
    "\n",
    "def generatePopulasi(uk_pop):\n",
    "    pop = []\n",
    "    for i in range(uk_pop):\n",
    "        pop.append(generateKromosom(8))\n",
    "        \n",
    "    return pop"
   ]
  },
  {
   "cell_type": "code",
   "execution_count": 3,
   "metadata": {},
   "outputs": [],
   "source": [
    "def decodeKromosom(krom): \n",
    "    x1_val = -3 + (6 / (9 * (10**-1 + 10**-2 + 10**-3 + 10**-4))) * ((krom[0]*10**-1)+(krom[1]*10**-2)+(krom[2]*10**-3)+(krom[3]*10**-4))\n",
    "    x2_val = -2 + (4 / (9 * (10**-1 + 10**-2 + 10**-3 + 10**-4))) * ((krom[4]*10**-1)+(krom[5]*10**-2)+(krom[6]*10**-3)+(krom[7]*10**-4))\n",
    "    \n",
    "    return [x1_val, x2_val]\n",
    "\n",
    "def hitungFitness(krom):\n",
    "    k = decodeKromosom(krom)\n",
    "    fit_val = -((((4 - (2.1 * k[0]**2) + (k[0]**4 / 3)) * k[0]**2) + (k[0]*k[1]) + ((-4 + (4*k[1]**2))*k[1]**2)))\n",
    "    return fit_val\n",
    "\n",
    "def hitungFitnessAll(pop, uk_pop):\n",
    "    fit_all = []    \n",
    "    for i in range(uk_pop):\n",
    "        fit_all.append(hitungFitness(pop[i]))\n",
    "    \n",
    "    return fit_all"
   ]
  },
  {
   "cell_type": "code",
   "execution_count": 4,
   "metadata": {},
   "outputs": [],
   "source": [
    "def tournamentSelection(pop, uk_tour, uk_pop):\n",
    "    best_krom = []\n",
    "    fit = hitungFitnessAll(pop, uk_pop)\n",
    "    for i in range(1, uk_tour):\n",
    "        krom = pop[random.randint(0,uk_pop-1)]\n",
    "        if (best_krom == [] or hitungFitness(krom) > hitungFitness(best_krom)):\n",
    "            best_krom = krom\n",
    "    return best_krom"
   ]
  },
  {
   "cell_type": "code",
   "execution_count": 5,
   "metadata": {},
   "outputs": [],
   "source": [
    "def crossover(par1, par2, pc):\n",
    "    r = random.random()\n",
    "    if (r < pc):\n",
    "        point = random.randint(0,7)\n",
    "        for i in range(point):\n",
    "            par1[i], par2[i] = par2[i], par1[i]\n",
    "        \n",
    "    return par1, par2"
   ]
  },
  {
   "cell_type": "code",
   "execution_count": null,
   "metadata": {},
   "outputs": [],
   "source": [
    "def mutasi(par1, par2, pm):\n",
    "    r = random.random()\n",
    "    if (r < pm):\n",
    "        par1[random.randint(0,7)] = random.randint(0,9)\n",
    "        par2[random.randint(0,7)] = random.randint(0,9)\n",
    "    return par1, par2"
   ]
  }
 ],
 "metadata": {
  "kernelspec": {
   "display_name": "Python 3",
   "language": "python",
   "name": "python3"
  },
  "language_info": {
   "codemirror_mode": {
    "name": "ipython",
    "version": 3
   },
   "file_extension": ".py",
   "mimetype": "text/x-python",
   "name": "python",
   "nbconvert_exporter": "python",
   "pygments_lexer": "ipython3",
   "version": "3.6.4"
  }
 },
 "nbformat": 4,
 "nbformat_minor": 2
}
